{
 "cells": [
  {
   "attachments": {},
   "cell_type": "markdown",
   "metadata": {},
   "source": [
    "# Validation and model selection studies for tree-based algorithms\n",
    "\n",
    "This notebook contains studies regarding model validation and model selection. Most of the times DNN model selection is based on evaluating the trained model on an independent dataset - called the validation set - and taking the training epoch with the best performance (quantified by the lowest validation loss). This selection approach was also used for model-agnostic anomaly detection methods, such as CATHODE.\n",
    "\n",
    "For tree-based algorithms, a similar approach is taken, but instead of epochs, the best *iteration* is chosen (in tree-based algorithms one additional tree is usually added to the model per iteration).\n",
    "\n",
    "For the weakly supervised setting, we conducted the following studies with regards to the model selection approach:\n",
    "\n",
    "1. Testing whether `scikit-learn`'s `HistGradientBoostingClassifier` applies correct weights to the *validation set*\n",
    "2. Testing whether the validation loss (which is based on **data vs. background** labels) serves as a good model-agnostic metric for the final performance on the another independent test set (which is based on **signal vs. background** labels)\n",
    "    \n",
    "    2.1. Study the correlation between max. SIC and validation loss of individual models of a single ensemble\n",
    "    \n",
    "    2.2. Study **ensemble** SIC and (summed) validation loss at each iteration\n",
    "    \n",
    "    2.3. Same as 2.2. but instead of taking model at each iteration, use a **random** iteration for each model in the ensemble\n",
    "    \n",
    "    2.4. Again a similar setup as 2.2., but this time doing a comparative study using **different** tree-based algorithms\n"
   ]
  },
  {
   "attachments": {},
   "cell_type": "markdown",
   "metadata": {},
   "source": [
    "## 1.: Test whether `scikit-learn` correctly weights *validation set*\n",
    "\n",
    "One problem that was studied also in the CATHODE paper is that weights must be applied - not only on the training set, but also on the validation set in order to balance out data and background classes. If not weighted correctly, the (oversampled) background class will have a too large weight and the model will focus more on rejecting the background (i.e. the random \"background-vs-background\" task) than on picking up the subtle signal part.\n",
    "\n",
    "In CATHODE, this lead from this plot:\n",
    "\n",
    "![](https://s3.desy.de/hackmd/uploads/upload_84e5380e409bb24522b4fabd8cc1031b.png)\n",
    "\n",
    "To this plot:\n",
    "\n",
    "![](https://s3.desy.de/hackmd/uploads/upload_b8fa047082892db26a1205d0bb40dfe1.png)\n",
    "\n",
    "As can be seen in the first plot, the validation loss without weights does not seem to be a good metric for model selection, since it seems to randomly jump between values in a similar range. This is probably caused by the large presence of (oversampled) background samples, which - due to their large proportion - get a much higher weight in the loss computation. Since the \"background vs background\"-task yields essentially random results, the validation loss takes random values around 0.693, which is exactly the result we expect from a random prediction (it is the negative logarithm of 0.5).\n",
    "\n",
    "In the second plot - after applying the weights to balance data and background classes - we see the validation loss go down to a minimum and then diverging again. Here, the \"data\" class has a higher weight than in the first plot. Since the only actual difference (modulo imperfections in the density estimation + interpolation) between data and background classes is the small amount of signal events, we can conclude that in the first few epochs, the classifier learns to pick up the signal better, and we see an improvement in (generalization) performance, whereas after the minimum, the noisy \"background vs background\" task kicks in and causes the performance to decrease as usual.\n",
    "\n",
    "Let's see how it works for the `HistGradientBoostingClassifier`. We implemented a flag that can be used to switch weighting of the validation set on or off."
   ]
  },
  {
   "cell_type": "code",
   "execution_count": 31,
   "metadata": {},
   "outputs": [],
   "source": [
    "import os\n",
    "from os.path import join\n",
    "import numpy as np\n",
    "from matplotlib import pyplot as plt\n",
    "from matplotlib import cm\n",
    "from utils import (load_lhco_rd, add_gaussian_features, multi_roc_sigeffs,\n",
    "                   train_histgradboost_multi, get_losses, preds_from_optimal_iter,\n",
    "                   loss_ndarray_from_dict)\n",
    "from plot_utils import plot_losses, plot_sic_curve_comparison\n",
    "from sklearn.ensemble import HistGradientBoostingClassifier\n",
    "from sklearn.model_selection import train_test_split\n",
    "from utils import HGBPipeline\n",
    "from sklearn.preprocessing import StandardScaler\n",
    "from sklearn.utils import class_weight\n",
    "from sklearn.metrics import log_loss"
   ]
  },
  {
   "cell_type": "code",
   "execution_count": 9,
   "metadata": {},
   "outputs": [],
   "source": [
    "# Load LHCO R&D dataset\n",
    "x_train, y_train, x_val, y_val, x_test, y_test = load_lhco_rd(\"./lhco_rd\")"
   ]
  },
  {
   "attachments": {},
   "cell_type": "markdown",
   "metadata": {},
   "source": [
    "Do tests for train/validation split of 50% and 20%\n",
    "\n",
    "Start with 50% and `sklearn` implementation:"
   ]
  },
  {
   "cell_type": "code",
   "execution_count": 10,
   "metadata": {},
   "outputs": [
    {
     "data": {
      "text/html": [
       "<style>#sk-container-id-2 {color: black;background-color: white;}#sk-container-id-2 pre{padding: 0;}#sk-container-id-2 div.sk-toggleable {background-color: white;}#sk-container-id-2 label.sk-toggleable__label {cursor: pointer;display: block;width: 100%;margin-bottom: 0;padding: 0.3em;box-sizing: border-box;text-align: center;}#sk-container-id-2 label.sk-toggleable__label-arrow:before {content: \"▸\";float: left;margin-right: 0.25em;color: #696969;}#sk-container-id-2 label.sk-toggleable__label-arrow:hover:before {color: black;}#sk-container-id-2 div.sk-estimator:hover label.sk-toggleable__label-arrow:before {color: black;}#sk-container-id-2 div.sk-toggleable__content {max-height: 0;max-width: 0;overflow: hidden;text-align: left;background-color: #f0f8ff;}#sk-container-id-2 div.sk-toggleable__content pre {margin: 0.2em;color: black;border-radius: 0.25em;background-color: #f0f8ff;}#sk-container-id-2 input.sk-toggleable__control:checked~div.sk-toggleable__content {max-height: 200px;max-width: 100%;overflow: auto;}#sk-container-id-2 input.sk-toggleable__control:checked~label.sk-toggleable__label-arrow:before {content: \"▾\";}#sk-container-id-2 div.sk-estimator input.sk-toggleable__control:checked~label.sk-toggleable__label {background-color: #d4ebff;}#sk-container-id-2 div.sk-label input.sk-toggleable__control:checked~label.sk-toggleable__label {background-color: #d4ebff;}#sk-container-id-2 input.sk-hidden--visually {border: 0;clip: rect(1px 1px 1px 1px);clip: rect(1px, 1px, 1px, 1px);height: 1px;margin: -1px;overflow: hidden;padding: 0;position: absolute;width: 1px;}#sk-container-id-2 div.sk-estimator {font-family: monospace;background-color: #f0f8ff;border: 1px dotted black;border-radius: 0.25em;box-sizing: border-box;margin-bottom: 0.5em;}#sk-container-id-2 div.sk-estimator:hover {background-color: #d4ebff;}#sk-container-id-2 div.sk-parallel-item::after {content: \"\";width: 100%;border-bottom: 1px solid gray;flex-grow: 1;}#sk-container-id-2 div.sk-label:hover label.sk-toggleable__label {background-color: #d4ebff;}#sk-container-id-2 div.sk-serial::before {content: \"\";position: absolute;border-left: 1px solid gray;box-sizing: border-box;top: 0;bottom: 0;left: 50%;z-index: 0;}#sk-container-id-2 div.sk-serial {display: flex;flex-direction: column;align-items: center;background-color: white;padding-right: 0.2em;padding-left: 0.2em;position: relative;}#sk-container-id-2 div.sk-item {position: relative;z-index: 1;}#sk-container-id-2 div.sk-parallel {display: flex;align-items: stretch;justify-content: center;background-color: white;position: relative;}#sk-container-id-2 div.sk-item::before, #sk-container-id-2 div.sk-parallel-item::before {content: \"\";position: absolute;border-left: 1px solid gray;box-sizing: border-box;top: 0;bottom: 0;left: 50%;z-index: -1;}#sk-container-id-2 div.sk-parallel-item {display: flex;flex-direction: column;z-index: 1;position: relative;background-color: white;}#sk-container-id-2 div.sk-parallel-item:first-child::after {align-self: flex-end;width: 50%;}#sk-container-id-2 div.sk-parallel-item:last-child::after {align-self: flex-start;width: 50%;}#sk-container-id-2 div.sk-parallel-item:only-child::after {width: 0;}#sk-container-id-2 div.sk-dashed-wrapped {border: 1px dashed gray;margin: 0 0.4em 0.5em 0.4em;box-sizing: border-box;padding-bottom: 0.4em;background-color: white;}#sk-container-id-2 div.sk-label label {font-family: monospace;font-weight: bold;display: inline-block;line-height: 1.2em;}#sk-container-id-2 div.sk-label-container {text-align: center;}#sk-container-id-2 div.sk-container {/* jupyter's `normalize.less` sets `[hidden] { display: none; }` but bootstrap.min.css set `[hidden] { display: none !important; }` so we also need the `!important` here to be able to override the default hidden behavior on the sphinx rendered scikit-learn.org. See: https://github.com/scikit-learn/scikit-learn/issues/21755 */display: inline-block !important;position: relative;}#sk-container-id-2 div.sk-text-repr-fallback {display: none;}</style><div id=\"sk-container-id-2\" class=\"sk-top-container\"><div class=\"sk-text-repr-fallback\"><pre>HGBPipeline(steps=[(&#x27;scaler&#x27;, StandardScaler()),\n",
       "                   (&#x27;HGB&#x27;,\n",
       "                    HistGradientBoostingClassifier(class_weight=&#x27;balanced&#x27;,\n",
       "                                                   early_stopping=True,\n",
       "                                                   max_bins=127,\n",
       "                                                   random_state=42,\n",
       "                                                   validation_fraction=0.5))])</pre><b>In a Jupyter environment, please rerun this cell to show the HTML representation or trust the notebook. <br />On GitHub, the HTML representation is unable to render, please try loading this page with nbviewer.org.</b></div><div class=\"sk-container\" hidden><div class=\"sk-item sk-dashed-wrapped\"><div class=\"sk-label-container\"><div class=\"sk-label sk-toggleable\"><input class=\"sk-toggleable__control sk-hidden--visually\" id=\"sk-estimator-id-4\" type=\"checkbox\" ><label for=\"sk-estimator-id-4\" class=\"sk-toggleable__label sk-toggleable__label-arrow\">HGBPipeline</label><div class=\"sk-toggleable__content\"><pre>HGBPipeline(steps=[(&#x27;scaler&#x27;, StandardScaler()),\n",
       "                   (&#x27;HGB&#x27;,\n",
       "                    HistGradientBoostingClassifier(class_weight=&#x27;balanced&#x27;,\n",
       "                                                   early_stopping=True,\n",
       "                                                   max_bins=127,\n",
       "                                                   random_state=42,\n",
       "                                                   validation_fraction=0.5))])</pre></div></div></div><div class=\"sk-serial\"><div class=\"sk-item\"><div class=\"sk-estimator sk-toggleable\"><input class=\"sk-toggleable__control sk-hidden--visually\" id=\"sk-estimator-id-5\" type=\"checkbox\" ><label for=\"sk-estimator-id-5\" class=\"sk-toggleable__label sk-toggleable__label-arrow\">StandardScaler</label><div class=\"sk-toggleable__content\"><pre>StandardScaler()</pre></div></div></div><div class=\"sk-item\"><div class=\"sk-estimator sk-toggleable\"><input class=\"sk-toggleable__control sk-hidden--visually\" id=\"sk-estimator-id-6\" type=\"checkbox\" ><label for=\"sk-estimator-id-6\" class=\"sk-toggleable__label sk-toggleable__label-arrow\">HistGradientBoostingClassifier</label><div class=\"sk-toggleable__content\"><pre>HistGradientBoostingClassifier(class_weight=&#x27;balanced&#x27;, early_stopping=True,\n",
       "                               max_bins=127, random_state=42,\n",
       "                               validation_fraction=0.5)</pre></div></div></div></div></div></div></div>"
      ],
      "text/plain": [
       "HGBPipeline(steps=[('scaler', StandardScaler()),\n",
       "                   ('HGB',\n",
       "                    HistGradientBoostingClassifier(class_weight='balanced',\n",
       "                                                   early_stopping=True,\n",
       "                                                   max_bins=127,\n",
       "                                                   random_state=42,\n",
       "                                                   validation_fraction=0.5))])"
      ]
     },
     "execution_count": 10,
     "metadata": {},
     "output_type": "execute_result"
    }
   ],
   "source": [
    "# 50% validation split\n",
    "seed = 42\n",
    "val_frac = 0.5\n",
    "x_full = np.concatenate([x_train, x_val])\n",
    "y_full = np.concatenate([y_train, y_val])\n",
    "skl_hgb = HistGradientBoostingClassifier(\n",
    "    max_bins=127, class_weight=\"balanced\", max_iter=100,\n",
    "    early_stopping=True, validation_fraction=val_frac,\n",
    "    random_state=seed)\n",
    "skl_steps = [('scaler', StandardScaler()), ('HGB', skl_hgb)]\n",
    "skl_model = HGBPipeline(steps=skl_steps)\n",
    "\n",
    "# fit model\n",
    "skl_model.fit(x_full, y_full)"
   ]
  },
  {
   "attachments": {},
   "cell_type": "markdown",
   "metadata": {},
   "source": [
    "Repeat with manual weight computantion"
   ]
  },
  {
   "cell_type": "code",
   "execution_count": 11,
   "metadata": {},
   "outputs": [],
   "source": [
    "x_train_skl, x_val_skl, y_train_skl, y_val_skl = train_test_split(\n",
    "    x_full, y_full, test_size=val_frac, stratify=y_full, random_state=skl_model['HGB']._random_seed\n",
    "    )\n",
    "\n",
    "mnl_hgb = HistGradientBoostingClassifier(max_bins=127, class_weight=\"balanced\", max_iter=100,\n",
    "                                         early_stopping=False, random_state=skl_model['HGB'].random_state)\n",
    "mnl_steps = [('scaler', StandardScaler()), ('HGB', mnl_hgb)]\n",
    "mnl_model = HGBPipeline(steps=mnl_steps)\n",
    "\n",
    "# fit model\n",
    "mnl_model.fit(x_train_skl, y_train_skl)\n",
    "\n",
    "# get losses\n",
    "mnl_val_losses = get_losses(mnl_model, x_val_skl, y_val_skl, compute_weights=True)\n",
    "mnl_val_losses_noweights = get_losses(mnl_model, x_val_skl, y_val_skl, compute_weights=False)"
   ]
  },
  {
   "cell_type": "code",
   "execution_count": 12,
   "metadata": {},
   "outputs": [],
   "source": [
    "# To mimic scikit-learn implementation, we need to compute the class weights\n",
    "# based on the full dataset, then assign sample weights to the validation set\n",
    "class_weights = class_weight.compute_class_weight(\n",
    "    class_weight='balanced', classes=np.unique(y_full), y=y_full\n",
    "    )\n",
    "\n",
    "sample_weights = ((np.ones(y_val_skl.shape) - y_val_skl)*class_weights[0]\n",
    "                    + y_val_skl*class_weights[1])\n",
    "\n",
    "# Compute log loss using sample weights\n",
    "losses = []\n",
    "for pred in skl_model.staged_predict_proba(x_val_skl):\n",
    "    losses.append(log_loss(y_val_skl, pred[:, 1], sample_weight=sample_weights))\n",
    "\n",
    "skl_losses = np.array(losses)\n",
    "\n",
    "# Compute log loss without sample weights\n",
    "losses = []\n",
    "for pred in skl_model.staged_predict_proba(x_val_skl):\n",
    "    losses.append(log_loss(y_val_skl, pred[:, 1]))\n",
    "\n",
    "skl_losses_noweights = np.array(losses)"
   ]
  },
  {
   "attachments": {},
   "cell_type": "markdown",
   "metadata": {},
   "source": [
    "Plot validation losses of both models:"
   ]
  },
  {
   "cell_type": "code",
   "execution_count": 13,
   "metadata": {},
   "outputs": [
    {
     "data": {
      "image/png": "[encoded data removed]",
      "text/plain": [
       "<Figure size 640x480 with 1 Axes>"
      ]
     },
     "metadata": {},
     "output_type": "display_data"
    }
   ],
   "source": [
    "x_vals = np.linspace(0, 1, 100)\n",
    "plt.plot(np.arange(1, len(mnl_val_losses)+1), mnl_val_losses, label=\"Manually computed weights\")\n",
    "plt.plot(np.arange(1, len(mnl_val_losses_noweights)+1), mnl_val_losses_noweights, label=\"No weights\")\n",
    "plt.plot(np.arange(1, len(skl_model['HGB'].validation_score_[1:])+1), (-1)*np.array(skl_model['HGB'].validation_score_[1:]), label=\"scikit-learn implementation\")\n",
    "plt.plot(np.arange(1, len(skl_losses)+1), skl_losses, label=\"scikit-learn manually comp. weights\")\n",
    "plt.plot(np.arange(1, len(skl_losses_noweights)+1), skl_losses_noweights, label=\"scikit-learn no weights\")\n",
    "plt.xlabel(\"Iteration\")\n",
    "plt.ylabel(\"Loss\")\n",
    "plt.legend(loc=\"upper left\")\n",
    "plt.savefig(\"./sklearn_val_loss_compare.pdf\")\n",
    "plt.show()\n",
    "plt.close()"
   ]
  },
  {
   "attachments": {},
   "cell_type": "markdown",
   "metadata": {},
   "source": [
    "Check for 80%/20% train/val split (there should be tiny differences due to the computation of the weights)"
   ]
  },
  {
   "cell_type": "code",
   "execution_count": 14,
   "metadata": {},
   "outputs": [
    {
     "data": {
      "text/html": [
       "<style>#sk-container-id-3 {color: black;background-color: white;}#sk-container-id-3 pre{padding: 0;}#sk-container-id-3 div.sk-toggleable {background-color: white;}#sk-container-id-3 label.sk-toggleable__label {cursor: pointer;display: block;width: 100%;margin-bottom: 0;padding: 0.3em;box-sizing: border-box;text-align: center;}#sk-container-id-3 label.sk-toggleable__label-arrow:before {content: \"▸\";float: left;margin-right: 0.25em;color: #696969;}#sk-container-id-3 label.sk-toggleable__label-arrow:hover:before {color: black;}#sk-container-id-3 div.sk-estimator:hover label.sk-toggleable__label-arrow:before {color: black;}#sk-container-id-3 div.sk-toggleable__content {max-height: 0;max-width: 0;overflow: hidden;text-align: left;background-color: #f0f8ff;}#sk-container-id-3 div.sk-toggleable__content pre {margin: 0.2em;color: black;border-radius: 0.25em;background-color: #f0f8ff;}#sk-container-id-3 input.sk-toggleable__control:checked~div.sk-toggleable__content {max-height: 200px;max-width: 100%;overflow: auto;}#sk-container-id-3 input.sk-toggleable__control:checked~label.sk-toggleable__label-arrow:before {content: \"▾\";}#sk-container-id-3 div.sk-estimator input.sk-toggleable__control:checked~label.sk-toggleable__label {background-color: #d4ebff;}#sk-container-id-3 div.sk-label input.sk-toggleable__control:checked~label.sk-toggleable__label {background-color: #d4ebff;}#sk-container-id-3 input.sk-hidden--visually {border: 0;clip: rect(1px 1px 1px 1px);clip: rect(1px, 1px, 1px, 1px);height: 1px;margin: -1px;overflow: hidden;padding: 0;position: absolute;width: 1px;}#sk-container-id-3 div.sk-estimator {font-family: monospace;background-color: #f0f8ff;border: 1px dotted black;border-radius: 0.25em;box-sizing: border-box;margin-bottom: 0.5em;}#sk-container-id-3 div.sk-estimator:hover {background-color: #d4ebff;}#sk-container-id-3 div.sk-parallel-item::after {content: \"\";width: 100%;border-bottom: 1px solid gray;flex-grow: 1;}#sk-container-id-3 div.sk-label:hover label.sk-toggleable__label {background-color: #d4ebff;}#sk-container-id-3 div.sk-serial::before {content: \"\";position: absolute;border-left: 1px solid gray;box-sizing: border-box;top: 0;bottom: 0;left: 50%;z-index: 0;}#sk-container-id-3 div.sk-serial {display: flex;flex-direction: column;align-items: center;background-color: white;padding-right: 0.2em;padding-left: 0.2em;position: relative;}#sk-container-id-3 div.sk-item {position: relative;z-index: 1;}#sk-container-id-3 div.sk-parallel {display: flex;align-items: stretch;justify-content: center;background-color: white;position: relative;}#sk-container-id-3 div.sk-item::before, #sk-container-id-3 div.sk-parallel-item::before {content: \"\";position: absolute;border-left: 1px solid gray;box-sizing: border-box;top: 0;bottom: 0;left: 50%;z-index: -1;}#sk-container-id-3 div.sk-parallel-item {display: flex;flex-direction: column;z-index: 1;position: relative;background-color: white;}#sk-container-id-3 div.sk-parallel-item:first-child::after {align-self: flex-end;width: 50%;}#sk-container-id-3 div.sk-parallel-item:last-child::after {align-self: flex-start;width: 50%;}#sk-container-id-3 div.sk-parallel-item:only-child::after {width: 0;}#sk-container-id-3 div.sk-dashed-wrapped {border: 1px dashed gray;margin: 0 0.4em 0.5em 0.4em;box-sizing: border-box;padding-bottom: 0.4em;background-color: white;}#sk-container-id-3 div.sk-label label {font-family: monospace;font-weight: bold;display: inline-block;line-height: 1.2em;}#sk-container-id-3 div.sk-label-container {text-align: center;}#sk-container-id-3 div.sk-container {/* jupyter's `normalize.less` sets `[hidden] { display: none; }` but bootstrap.min.css set `[hidden] { display: none !important; }` so we also need the `!important` here to be able to override the default hidden behavior on the sphinx rendered scikit-learn.org. See: https://github.com/scikit-learn/scikit-learn/issues/21755 */display: inline-block !important;position: relative;}#sk-container-id-3 div.sk-text-repr-fallback {display: none;}</style><div id=\"sk-container-id-3\" class=\"sk-top-container\"><div class=\"sk-text-repr-fallback\"><pre>HGBPipeline(steps=[(&#x27;scaler&#x27;, StandardScaler()),\n",
       "                   (&#x27;HGB&#x27;,\n",
       "                    HistGradientBoostingClassifier(class_weight=&#x27;balanced&#x27;,\n",
       "                                                   early_stopping=True,\n",
       "                                                   max_bins=127,\n",
       "                                                   random_state=42,\n",
       "                                                   validation_fraction=0.2))])</pre><b>In a Jupyter environment, please rerun this cell to show the HTML representation or trust the notebook. <br />On GitHub, the HTML representation is unable to render, please try loading this page with nbviewer.org.</b></div><div class=\"sk-container\" hidden><div class=\"sk-item sk-dashed-wrapped\"><div class=\"sk-label-container\"><div class=\"sk-label sk-toggleable\"><input class=\"sk-toggleable__control sk-hidden--visually\" id=\"sk-estimator-id-7\" type=\"checkbox\" ><label for=\"sk-estimator-id-7\" class=\"sk-toggleable__label sk-toggleable__label-arrow\">HGBPipeline</label><div class=\"sk-toggleable__content\"><pre>HGBPipeline(steps=[(&#x27;scaler&#x27;, StandardScaler()),\n",
       "                   (&#x27;HGB&#x27;,\n",
       "                    HistGradientBoostingClassifier(class_weight=&#x27;balanced&#x27;,\n",
       "                                                   early_stopping=True,\n",
       "                                                   max_bins=127,\n",
       "                                                   random_state=42,\n",
       "                                                   validation_fraction=0.2))])</pre></div></div></div><div class=\"sk-serial\"><div class=\"sk-item\"><div class=\"sk-estimator sk-toggleable\"><input class=\"sk-toggleable__control sk-hidden--visually\" id=\"sk-estimator-id-8\" type=\"checkbox\" ><label for=\"sk-estimator-id-8\" class=\"sk-toggleable__label sk-toggleable__label-arrow\">StandardScaler</label><div class=\"sk-toggleable__content\"><pre>StandardScaler()</pre></div></div></div><div class=\"sk-item\"><div class=\"sk-estimator sk-toggleable\"><input class=\"sk-toggleable__control sk-hidden--visually\" id=\"sk-estimator-id-9\" type=\"checkbox\" ><label for=\"sk-estimator-id-9\" class=\"sk-toggleable__label sk-toggleable__label-arrow\">HistGradientBoostingClassifier</label><div class=\"sk-toggleable__content\"><pre>HistGradientBoostingClassifier(class_weight=&#x27;balanced&#x27;, early_stopping=True,\n",
       "                               max_bins=127, random_state=42,\n",
       "                               validation_fraction=0.2)</pre></div></div></div></div></div></div></div>"
      ],
      "text/plain": [
       "HGBPipeline(steps=[('scaler', StandardScaler()),\n",
       "                   ('HGB',\n",
       "                    HistGradientBoostingClassifier(class_weight='balanced',\n",
       "                                                   early_stopping=True,\n",
       "                                                   max_bins=127,\n",
       "                                                   random_state=42,\n",
       "                                                   validation_fraction=0.2))])"
      ]
     },
     "execution_count": 14,
     "metadata": {},
     "output_type": "execute_result"
    }
   ],
   "source": [
    "# 50% validation split\n",
    "seed = 42\n",
    "val_frac = 0.2\n",
    "x_full = np.concatenate([x_train, x_val])\n",
    "y_full = np.concatenate([y_train, y_val])\n",
    "skl_hgb = HistGradientBoostingClassifier(\n",
    "    max_bins=127, class_weight=\"balanced\", max_iter=100,\n",
    "    early_stopping=True, validation_fraction=val_frac,\n",
    "    random_state=seed)\n",
    "skl_steps = [('scaler', StandardScaler()), ('HGB', skl_hgb)]\n",
    "skl_model = HGBPipeline(steps=skl_steps)\n",
    "\n",
    "# fit model\n",
    "skl_model.fit(x_full, y_full)"
   ]
  },
  {
   "cell_type": "code",
   "execution_count": 15,
   "metadata": {},
   "outputs": [],
   "source": [
    "x_train_skl, x_val_skl, y_train_skl, y_val_skl = train_test_split(\n",
    "    x_full, y_full, test_size=val_frac, stratify=y_full, random_state=skl_model['HGB']._random_seed\n",
    "    )\n",
    "\n",
    "mnl_hgb = HistGradientBoostingClassifier(max_bins=127, class_weight=\"balanced\", max_iter=100,\n",
    "                                         early_stopping=False, random_state=skl_model['HGB'].random_state)\n",
    "mnl_steps = [('scaler', StandardScaler()), ('HGB', mnl_hgb)]\n",
    "mnl_model = HGBPipeline(steps=mnl_steps)\n",
    "\n",
    "# fit model\n",
    "mnl_model.fit(x_train_skl, y_train_skl)\n",
    "\n",
    "# get losses\n",
    "mnl_val_losses = get_losses(mnl_model, x_val_skl, y_val_skl, compute_weights=True)\n",
    "mnl_val_losses_noweights = get_losses(mnl_model, x_val_skl, y_val_skl, compute_weights=False)"
   ]
  },
  {
   "cell_type": "code",
   "execution_count": 16,
   "metadata": {},
   "outputs": [],
   "source": [
    "# To mimic scikit-learn implementation, we need to compute the class weights\n",
    "# based on the full dataset, then assign sample weights to the validation set\n",
    "class_weights = class_weight.compute_class_weight(\n",
    "    class_weight='balanced', classes=np.unique(y_full), y=y_full\n",
    "    )\n",
    "\n",
    "sample_weights = ((np.ones(y_val_skl.shape) - y_val_skl)*class_weights[0]\n",
    "                    + y_val_skl*class_weights[1])\n",
    "\n",
    "# Compute log loss using sample weights\n",
    "losses = []\n",
    "for pred in skl_model.staged_predict_proba(x_val_skl):\n",
    "    losses.append(log_loss(y_val_skl, pred[:, 1], sample_weight=sample_weights))\n",
    "\n",
    "skl_losses = np.array(losses)\n",
    "\n",
    "# Compute log loss without sample weights\n",
    "losses = []\n",
    "for pred in skl_model.staged_predict_proba(x_val_skl):\n",
    "    losses.append(log_loss(y_val_skl, pred[:, 1]))\n",
    "\n",
    "skl_losses_noweights = np.array(losses)"
   ]
  },
  {
   "attachments": {},
   "cell_type": "markdown",
   "metadata": {},
   "source": [
    "Plot validation losses and save under different filename for the 80%/20% case"
   ]
  },
  {
   "cell_type": "code",
   "execution_count": 18,
   "metadata": {},
   "outputs": [
    {
     "data": {
      "image/png": "[encoded data removed]",
      "text/plain": [
       "<Figure size 640x480 with 1 Axes>"
      ]
     },
     "metadata": {},
     "output_type": "display_data"
    }
   ],
   "source": [
    "x_vals = np.linspace(0, 1, 100)\n",
    "plt.plot(np.arange(1, len(mnl_val_losses)+1), mnl_val_losses, label=\"Manually computed weights\")\n",
    "plt.plot(np.arange(1, len(mnl_val_losses_noweights)+1), mnl_val_losses_noweights, label=\"No weights\")\n",
    "plt.plot(np.arange(1, len(skl_model['HGB'].validation_score_[1:])+1), (-1)*np.array(skl_model['HGB'].validation_score_[1:]), label=\"scikit-learn implementation\")\n",
    "plt.plot(np.arange(1, len(skl_losses)+1), skl_losses, label=\"scikit-learn manually comp. weights\")\n",
    "plt.plot(np.arange(1, len(skl_losses_noweights)+1), skl_losses_noweights, label=\"scikit-learn no weights\")\n",
    "plt.xlabel(\"Iteration\")\n",
    "plt.ylabel(\"Loss\")\n",
    "plt.legend(loc=\"lower left\")\n",
    "plt.savefig(\"./sklearn_val_loss_compare8020.pdf\")\n",
    "plt.show()\n",
    "plt.close()"
   ]
  },
  {
   "attachments": {},
   "cell_type": "markdown",
   "metadata": {},
   "source": [
    "Finally, we investigate how the performance in terms of SIC changes when choosing models based on weighted vs non-weighted validation loss:"
   ]
  },
  {
   "cell_type": "code",
   "execution_count": 32,
   "metadata": {},
   "outputs": [
    {
     "name": "stdout",
     "output_type": "stream",
     "text": [
      "Best iteration: 89, unweighted val loss: 0.6923, weighted val loss: 0.6930\n",
      "Best iteration: 20, unweighted val loss: 0.6927, weighted val loss: 0.6929\n"
     ]
    },
    {
     "name": "stderr",
     "output_type": "stream",
     "text": [
      "/beegfs/desy/user/loeschet/treebased_ad/treebased_ad/plot_utils.py:29: RuntimeWarning: divide by zero encountered in true_divide\n",
      "  multi_sics = multi_tprs/np.sqrt(multi_fprs)\n",
      "/beegfs/desy/user/loeschet/treebased_ad/treebased_ad/plot_utils.py:29: RuntimeWarning: invalid value encountered in true_divide\n",
      "  multi_sics = multi_tprs/np.sqrt(multi_fprs)\n",
      "/beegfs/desy/user/loeschet/anaconda3/envs/hgb_env/lib/python3.10/site-packages/numpy/lib/function_base.py:4486: RuntimeWarning: invalid value encountered in subtract\n",
      "  diff_b_a = subtract(b, a)\n",
      "/beegfs/desy/user/loeschet/treebased_ad/treebased_ad/plot_utils.py:39: RuntimeWarning: divide by zero encountered in true_divide\n",
      "  (1/np.sqrt(median_fprs*y_test[y_test == 0].shape[0])) < max_rel_err\n"
     ]
    },
    {
     "data": {
      "image/png": "[encoded data removed]",
      "text/plain": [
       "<Figure size 640x480 with 1 Axes>"
      ]
     },
     "metadata": {},
     "output_type": "display_data"
    }
   ],
   "source": [
    "# Get TPRs and FPRs for all ensembles\n",
    "preds_noweights = preds_from_optimal_iter(mnl_model, x_val_skl, y_val_skl, x_test, compute_weights=False)\n",
    "preds_withweights = preds_from_optimal_iter(mnl_model, x_val_skl, y_val_skl, x_test, compute_weights=True)\n",
    "tpr_vals_noweights, fpr_vals_noweights = multi_roc_sigeffs(preds_noweights.reshape((1, -1)), y_test)\n",
    "tpr_vals_withweights, fpr_vals_withweights = multi_roc_sigeffs(preds_withweights.reshape((1, -1)), y_test)\n",
    "\n",
    "# Plot SIC curve comparison: with and without validation weights\n",
    "plot_sic_curve_comparison(\n",
    "    [tpr_vals_withweights, tpr_vals_noweights], [fpr_vals_withweights, fpr_vals_noweights], y_test,\n",
    "    \"./hgb_sic_curve_weightcompare.pdf\", labels=[\"HGB w/ weights\", \"HGB w/o weights\"],\n",
    "    xlabel=\"Signal Efficiency (True Positive Rate)\", ylabel=\"Significance Improvement (SIC)\",\n",
    "    max_rel_err=0.2)"
   ]
  },
  {
   "attachments": {},
   "cell_type": "markdown",
   "metadata": {},
   "source": [
    "**Discussion of results of study 1.:**\n",
    "\n",
    "It seems that the `scikit-learn` implementation does the right thing: It also correctly applies weights to the validation set. One drawback is that weights are computed based on the full dataset and are not re-computed with respect to the validation set. However, it seems that this has no practical impact (probably only when the validation fraction is super small, which should not be done anyway).\n",
    "\n",
    "Another drawback using the `scikit-learn` implementation is that the preprocessing using `Pipeline` does not work as we would like: The scaling is done based on the full dataset, while we would like to have it for the training set only. However, as long as the training fraction is large enough, this too shouldn't make much of a difference (as can be seen from the plots). Overall, we see that our implementation and the `scikit-learn` implementation coincide. Thus, we can continue with our implementation for further studies.\n",
    "\n",
    "Interestingly, there doesn't seem an impact on the final performance (in terms of max. SIC) whether we're choosing based on weighted or unweighted val. loss. This already hints at the validation loss not being an optimal metric for model selection, which we'll further investigate in study 2. However, the advantage of applying the weights is that we get a valid minimum, enabling early stopping techniques and thus a way faster training.\n",
    "\n",
    "## Study 2.: Test whether validation loss is a good metric for model selection\n",
    "### Study 2.1.: Study the correlation between max. SIC and validation loss of individual models of a single ensemble"
   ]
  },
  {
   "cell_type": "code",
   "execution_count": 20,
   "metadata": {},
   "outputs": [
    {
     "name": "stdout",
     "output_type": "stream",
     "text": [
      "Run 1/1\n",
      "Best iteration: 9, unweighted val loss: 0.6928, weighted val loss: 0.6930\n",
      "Best iteration: 7, unweighted val loss: 0.6929, weighted val loss: 0.6930\n",
      "Best iteration: 8, unweighted val loss: 0.6928, weighted val loss: 0.6930\n",
      "Best iteration: 10, unweighted val loss: 0.6929, weighted val loss: 0.6930\n",
      "Best iteration: 17, unweighted val loss: 0.6927, weighted val loss: 0.6930\n",
      "Best iteration: 9, unweighted val loss: 0.6928, weighted val loss: 0.6930\n",
      "Best iteration: 9, unweighted val loss: 0.6928, weighted val loss: 0.6930\n",
      "Best iteration: 6, unweighted val loss: 0.6929, weighted val loss: 0.6930\n",
      "Best iteration: 12, unweighted val loss: 0.6928, weighted val loss: 0.6930\n",
      "Best iteration: 9, unweighted val loss: 0.6928, weighted val loss: 0.6930\n",
      "Saving full predictions as ./ensemble_preds_run0.npy\n"
     ]
    }
   ],
   "source": [
    "# Load data from LHCO R&D dataset\n",
    "x_train, y_train, x_val, y_val, x_test, y_test = load_lhco_rd(\"./lhco_rd\")\n",
    "\n",
    "# How often to re-run the entire ensemble training procedure\n",
    "num_runs = 1\n",
    "\n",
    "# How many models constitute a single ensemble\n",
    "ensembles_per_model = 10\n",
    "\n",
    "max_iters = 100\n",
    "\n",
    "compute_val_weights = True\n",
    "\n",
    "# Get predictions of all ensembles\n",
    "full_predictions, full_losses, models = train_histgradboost_multi(\n",
    "    x_train, y_train, x_val, y_val, x_test, y_test,\n",
    "    num_runs=num_runs, ensembles_per_model=ensembles_per_model, max_iters=max_iters,\n",
    "    compute_val_weights=compute_val_weights, cv_mode=\"random\",\n",
    "    save_ensemble_preds=True)\n",
    "\n",
    "numpy_losses = loss_ndarray_from_dict(full_losses)\n",
    "\n",
    "full_train_losses = numpy_losses[\"train_loss\"]\n",
    "full_val_losses = numpy_losses[\"val_loss\"]\n",
    "full_test_losses = numpy_losses[\"test_loss\"]\n",
    "\n",
    "# Get TPRs and FPRs for all ensembles\n",
    "tpr_vals_noG, fpr_vals_noG = multi_roc_sigeffs(full_predictions, y_test)"
   ]
  },
  {
   "attachments": {},
   "cell_type": "markdown",
   "metadata": {},
   "source": [
    "For this study, we use the single ensemble model from the previous cell. We compute the maximum SIC value of each individual model at each iteration and plot it together with the respective validation loss."
   ]
  },
  {
   "cell_type": "code",
   "execution_count": 21,
   "metadata": {},
   "outputs": [],
   "source": [
    "# Necessary functions to conduct this study\n",
    "def get_preds_from_iters(x, model):\n",
    "    preds = model.staged_predict_proba(x)\n",
    "    for i, pred in enumerate(preds):\n",
    "        tmp_preds = pred[:, 1].reshape((1, -1))\n",
    "        if i == 0:\n",
    "            all_preds = tmp_preds\n",
    "        else:\n",
    "            all_preds = np.vstack([all_preds, tmp_preds])\n",
    "    \n",
    "    return all_preds\n",
    "\n",
    "def get_sics_from_iters(x_test, y_test, model, max_rel_err=0.2):\n",
    "    all_preds = get_preds_from_iters(x_test, model)\n",
    "    \n",
    "    all_tprs, all_fprs = multi_roc_sigeffs(all_preds, y_test)\n",
    "    \n",
    "    all_sics = all_tprs/np.sqrt(all_fprs)\n",
    "    all_sics[~np.isfinite(all_sics)] = 0\n",
    "    \n",
    "    \n",
    "    masks = (1/np.sqrt(all_fprs*y_test[y_test==0].shape[0])) < max_rel_err\n",
    "    masked_sics = np.ma.array(all_sics, mask=~masks)\n",
    "    max_sics = masked_sics.max(axis=1).data\n",
    "    \n",
    "    return max_sics\n",
    "\n",
    "def get_full_test_sics(x_test, y_test, models, max_rel_err=0.2):\n",
    "    for i in range(len(models)):\n",
    "        print(f\"Currently running model: {i+1}/{len(models)}\")\n",
    "        tmp_sics = get_sics_from_iters(x_test, y_test, models[i], max_rel_err=max_rel_err)\n",
    "        tmp_sics = tmp_sics.reshape((1, -1))\n",
    "        if i == 0:\n",
    "            full_sics = tmp_sics\n",
    "        else:\n",
    "            full_sics = np.vstack((full_sics, tmp_sics))\n",
    "    \n",
    "    return full_sics"
   ]
  },
  {
   "cell_type": "code",
   "execution_count": 22,
   "metadata": {},
   "outputs": [
    {
     "name": "stdout",
     "output_type": "stream",
     "text": [
      "Currently running model: 1/10\n"
     ]
    },
    {
     "name": "stderr",
     "output_type": "stream",
     "text": [
      "/tmp/ipykernel_89345/2931898802.py:18: RuntimeWarning: divide by zero encountered in true_divide\n",
      "  all_sics = all_tprs/np.sqrt(all_fprs)\n",
      "/tmp/ipykernel_89345/2931898802.py:18: RuntimeWarning: invalid value encountered in true_divide\n",
      "  all_sics = all_tprs/np.sqrt(all_fprs)\n",
      "/tmp/ipykernel_89345/2931898802.py:22: RuntimeWarning: divide by zero encountered in true_divide\n",
      "  masks = (1/np.sqrt(all_fprs*y_test[y_test==0].shape[0])) < max_rel_err\n"
     ]
    },
    {
     "name": "stdout",
     "output_type": "stream",
     "text": [
      "Currently running model: 2/10\n"
     ]
    },
    {
     "name": "stderr",
     "output_type": "stream",
     "text": [
      "/tmp/ipykernel_89345/2931898802.py:18: RuntimeWarning: divide by zero encountered in true_divide\n",
      "  all_sics = all_tprs/np.sqrt(all_fprs)\n",
      "/tmp/ipykernel_89345/2931898802.py:18: RuntimeWarning: invalid value encountered in true_divide\n",
      "  all_sics = all_tprs/np.sqrt(all_fprs)\n",
      "/tmp/ipykernel_89345/2931898802.py:22: RuntimeWarning: divide by zero encountered in true_divide\n",
      "  masks = (1/np.sqrt(all_fprs*y_test[y_test==0].shape[0])) < max_rel_err\n"
     ]
    },
    {
     "name": "stdout",
     "output_type": "stream",
     "text": [
      "Currently running model: 3/10\n"
     ]
    },
    {
     "name": "stderr",
     "output_type": "stream",
     "text": [
      "/tmp/ipykernel_89345/2931898802.py:18: RuntimeWarning: divide by zero encountered in true_divide\n",
      "  all_sics = all_tprs/np.sqrt(all_fprs)\n",
      "/tmp/ipykernel_89345/2931898802.py:18: RuntimeWarning: invalid value encountered in true_divide\n",
      "  all_sics = all_tprs/np.sqrt(all_fprs)\n",
      "/tmp/ipykernel_89345/2931898802.py:22: RuntimeWarning: divide by zero encountered in true_divide\n",
      "  masks = (1/np.sqrt(all_fprs*y_test[y_test==0].shape[0])) < max_rel_err\n"
     ]
    },
    {
     "name": "stdout",
     "output_type": "stream",
     "text": [
      "Currently running model: 4/10\n"
     ]
    },
    {
     "name": "stderr",
     "output_type": "stream",
     "text": [
      "/tmp/ipykernel_89345/2931898802.py:18: RuntimeWarning: divide by zero encountered in true_divide\n",
      "  all_sics = all_tprs/np.sqrt(all_fprs)\n",
      "/tmp/ipykernel_89345/2931898802.py:18: RuntimeWarning: invalid value encountered in true_divide\n",
      "  all_sics = all_tprs/np.sqrt(all_fprs)\n",
      "/tmp/ipykernel_89345/2931898802.py:22: RuntimeWarning: divide by zero encountered in true_divide\n",
      "  masks = (1/np.sqrt(all_fprs*y_test[y_test==0].shape[0])) < max_rel_err\n"
     ]
    },
    {
     "name": "stdout",
     "output_type": "stream",
     "text": [
      "Currently running model: 5/10\n"
     ]
    },
    {
     "name": "stderr",
     "output_type": "stream",
     "text": [
      "/tmp/ipykernel_89345/2931898802.py:18: RuntimeWarning: divide by zero encountered in true_divide\n",
      "  all_sics = all_tprs/np.sqrt(all_fprs)\n",
      "/tmp/ipykernel_89345/2931898802.py:18: RuntimeWarning: invalid value encountered in true_divide\n",
      "  all_sics = all_tprs/np.sqrt(all_fprs)\n",
      "/tmp/ipykernel_89345/2931898802.py:22: RuntimeWarning: divide by zero encountered in true_divide\n",
      "  masks = (1/np.sqrt(all_fprs*y_test[y_test==0].shape[0])) < max_rel_err\n"
     ]
    },
    {
     "name": "stdout",
     "output_type": "stream",
     "text": [
      "Currently running model: 6/10\n"
     ]
    },
    {
     "name": "stderr",
     "output_type": "stream",
     "text": [
      "/tmp/ipykernel_89345/2931898802.py:18: RuntimeWarning: divide by zero encountered in true_divide\n",
      "  all_sics = all_tprs/np.sqrt(all_fprs)\n",
      "/tmp/ipykernel_89345/2931898802.py:18: RuntimeWarning: invalid value encountered in true_divide\n",
      "  all_sics = all_tprs/np.sqrt(all_fprs)\n",
      "/tmp/ipykernel_89345/2931898802.py:22: RuntimeWarning: divide by zero encountered in true_divide\n",
      "  masks = (1/np.sqrt(all_fprs*y_test[y_test==0].shape[0])) < max_rel_err\n"
     ]
    },
    {
     "name": "stdout",
     "output_type": "stream",
     "text": [
      "Currently running model: 7/10\n"
     ]
    },
    {
     "name": "stderr",
     "output_type": "stream",
     "text": [
      "/tmp/ipykernel_89345/2931898802.py:18: RuntimeWarning: divide by zero encountered in true_divide\n",
      "  all_sics = all_tprs/np.sqrt(all_fprs)\n",
      "/tmp/ipykernel_89345/2931898802.py:18: RuntimeWarning: invalid value encountered in true_divide\n",
      "  all_sics = all_tprs/np.sqrt(all_fprs)\n",
      "/tmp/ipykernel_89345/2931898802.py:22: RuntimeWarning: divide by zero encountered in true_divide\n",
      "  masks = (1/np.sqrt(all_fprs*y_test[y_test==0].shape[0])) < max_rel_err\n"
     ]
    },
    {
     "name": "stdout",
     "output_type": "stream",
     "text": [
      "Currently running model: 8/10\n"
     ]
    },
    {
     "name": "stderr",
     "output_type": "stream",
     "text": [
      "/tmp/ipykernel_89345/2931898802.py:18: RuntimeWarning: divide by zero encountered in true_divide\n",
      "  all_sics = all_tprs/np.sqrt(all_fprs)\n",
      "/tmp/ipykernel_89345/2931898802.py:18: RuntimeWarning: invalid value encountered in true_divide\n",
      "  all_sics = all_tprs/np.sqrt(all_fprs)\n",
      "/tmp/ipykernel_89345/2931898802.py:22: RuntimeWarning: divide by zero encountered in true_divide\n",
      "  masks = (1/np.sqrt(all_fprs*y_test[y_test==0].shape[0])) < max_rel_err\n"
     ]
    },
    {
     "name": "stdout",
     "output_type": "stream",
     "text": [
      "Currently running model: 9/10\n"
     ]
    },
    {
     "name": "stderr",
     "output_type": "stream",
     "text": [
      "/tmp/ipykernel_89345/2931898802.py:18: RuntimeWarning: divide by zero encountered in true_divide\n",
      "  all_sics = all_tprs/np.sqrt(all_fprs)\n",
      "/tmp/ipykernel_89345/2931898802.py:18: RuntimeWarning: invalid value encountered in true_divide\n",
      "  all_sics = all_tprs/np.sqrt(all_fprs)\n",
      "/tmp/ipykernel_89345/2931898802.py:22: RuntimeWarning: divide by zero encountered in true_divide\n",
      "  masks = (1/np.sqrt(all_fprs*y_test[y_test==0].shape[0])) < max_rel_err\n"
     ]
    },
    {
     "name": "stdout",
     "output_type": "stream",
     "text": [
      "Currently running model: 10/10\n"
     ]
    },
    {
     "name": "stderr",
     "output_type": "stream",
     "text": [
      "/tmp/ipykernel_89345/2931898802.py:18: RuntimeWarning: divide by zero encountered in true_divide\n",
      "  all_sics = all_tprs/np.sqrt(all_fprs)\n",
      "/tmp/ipykernel_89345/2931898802.py:18: RuntimeWarning: invalid value encountered in true_divide\n",
      "  all_sics = all_tprs/np.sqrt(all_fprs)\n",
      "/tmp/ipykernel_89345/2931898802.py:22: RuntimeWarning: divide by zero encountered in true_divide\n",
      "  masks = (1/np.sqrt(all_fprs*y_test[y_test==0].shape[0])) < max_rel_err\n"
     ]
    }
   ],
   "source": [
    "# Get max. SICs for each individual model in the ensemble, for each iteration\n",
    "# NOTE: This can take a while (~30 minutes)\n",
    "full_sics = get_full_test_sics(x_test, y_test, models[0])"
   ]
  },
  {
   "attachments": {},
   "cell_type": "markdown",
   "metadata": {},
   "source": [
    "For each model inside a single ensemble, make a plot of the validation loss and the maximum SIC (based on signal vs. BG labels of test set) vs. training/boosting iterations"
   ]
  },
  {
   "cell_type": "code",
   "execution_count": 23,
   "metadata": {},
   "outputs": [],
   "source": [
    "for i in range(full_sics.shape[0]):\n",
    "    fig, ax = plt.subplots()\n",
    "    xvals = np.arange(1, full_sics.shape[1]+1)\n",
    "    line1, = ax.plot(xvals, full_val_losses[0][i], label=\"val. loss\", color=\"blue\")\n",
    "    ax.set_xlabel(\"Iteration\")\n",
    "    ax.set_ylabel(\"Validation Loss\")\n",
    "    ax2 = ax.twinx()\n",
    "    line2, = ax2.plot(xvals, full_sics[i], label=\"max. SIC\", color=\"orange\")\n",
    "    ax2.set_ylabel(\"Significance Improvement (SIC)\")\n",
    "    ax2.set_ylim(0, 20)\n",
    "    ax2.legend(handles=[line1, line2], loc=\"upper right\")\n",
    "    plt.savefig(f\"./val_loss_max_sic_compare_run{i}.pdf\", bbox_inches=\"tight\")\n",
    "    plt.close()"
   ]
  },
  {
   "attachments": {},
   "cell_type": "markdown",
   "metadata": {},
   "source": [
    "### Study 2.2: Look at **ensemble** SIC and (summed) validation loss at each iteration\n",
    "\n",
    "We also run a similar study as the previous one for the *ensemble*: We compute the sum of the validation losses over all models in the ensemble and plot it with the maximum SIC values of the *ensemble* at each iteration (i.e. instead of taking the mean of the min val. loss model predictions, we take the mean of the model predictions at each iteration). For comparison, we also plot a line of the max SIC of the ensemble model where for each individual model the minimum val. loss iteration was selected."
   ]
  },
  {
   "cell_type": "code",
   "execution_count": 24,
   "metadata": {},
   "outputs": [
    {
     "name": "stdout",
     "output_type": "stream",
     "text": [
      "Working on model: 1/10\n",
      "Working on model: 2/10\n",
      "Working on model: 3/10\n",
      "Working on model: 4/10\n",
      "Working on model: 5/10\n",
      "Working on model: 6/10\n",
      "Working on model: 7/10\n",
      "Working on model: 8/10\n",
      "Working on model: 9/10\n",
      "Working on model: 10/10\n",
      "Done!\n"
     ]
    }
   ],
   "source": [
    "# First, we get the test predictions for each model at each iteration and stack them\n",
    "for idx, model in enumerate(models[0]):\n",
    "    print(f\"Working on model: {idx+1}/{len(models[0])}\")\n",
    "    tmp_preds = get_preds_from_iters(x_test, model)\n",
    "    tmp_preds = tmp_preds.reshape((1, tmp_preds.shape[0], -1))\n",
    "    \n",
    "    if idx == 0:\n",
    "        all_preds = tmp_preds\n",
    "    else:\n",
    "        all_preds = np.vstack([all_preds, tmp_preds])\n",
    "\n",
    "print(\"Done!\")"
   ]
  },
  {
   "cell_type": "code",
   "execution_count": 25,
   "metadata": {},
   "outputs": [
    {
     "name": "stdout",
     "output_type": "stream",
     "text": [
      "Working on iteration 1/100\n"
     ]
    },
    {
     "name": "stderr",
     "output_type": "stream",
     "text": [
      "/tmp/ipykernel_89345/2131551562.py:8: RuntimeWarning: divide by zero encountered in true_divide\n",
      "  iter_sics = iter_tprs/np.sqrt(iter_fprs)\n",
      "/tmp/ipykernel_89345/2131551562.py:8: RuntimeWarning: invalid value encountered in true_divide\n",
      "  iter_sics = iter_tprs/np.sqrt(iter_fprs)\n",
      "/tmp/ipykernel_89345/2131551562.py:11: RuntimeWarning: divide by zero encountered in true_divide\n",
      "  mask = (1/np.sqrt(iter_fprs.flatten()*y_test[y_test==0].shape[0])) < 0.2\n"
     ]
    },
    {
     "name": "stdout",
     "output_type": "stream",
     "text": [
      "Working on iteration 2/100\n",
      "Working on iteration 3/100\n",
      "Working on iteration 4/100\n",
      "Working on iteration 5/100\n",
      "Working on iteration 6/100\n",
      "Working on iteration 7/100\n",
      "Working on iteration 8/100\n",
      "Working on iteration 9/100\n",
      "Working on iteration 10/100\n",
      "Working on iteration 11/100\n",
      "Working on iteration 12/100\n",
      "Working on iteration 13/100\n",
      "Working on iteration 14/100\n",
      "Working on iteration 15/100\n",
      "Working on iteration 16/100\n",
      "Working on iteration 17/100\n",
      "Working on iteration 18/100\n",
      "Working on iteration 19/100\n",
      "Working on iteration 20/100\n",
      "Working on iteration 21/100\n",
      "Working on iteration 22/100\n",
      "Working on iteration 23/100\n",
      "Working on iteration 24/100\n",
      "Working on iteration 25/100\n",
      "Working on iteration 26/100\n",
      "Working on iteration 27/100\n",
      "Working on iteration 28/100\n",
      "Working on iteration 29/100\n",
      "Working on iteration 30/100\n",
      "Working on iteration 31/100\n",
      "Working on iteration 32/100\n",
      "Working on iteration 33/100\n",
      "Working on iteration 34/100\n",
      "Working on iteration 35/100\n",
      "Working on iteration 36/100\n",
      "Working on iteration 37/100\n",
      "Working on iteration 38/100\n",
      "Working on iteration 39/100\n",
      "Working on iteration 40/100\n",
      "Working on iteration 41/100\n",
      "Working on iteration 42/100\n",
      "Working on iteration 43/100\n",
      "Working on iteration 44/100\n",
      "Working on iteration 45/100\n",
      "Working on iteration 46/100\n",
      "Working on iteration 47/100\n",
      "Working on iteration 48/100\n",
      "Working on iteration 49/100\n",
      "Working on iteration 50/100\n",
      "Working on iteration 51/100\n",
      "Working on iteration 52/100\n",
      "Working on iteration 53/100\n",
      "Working on iteration 54/100\n",
      "Working on iteration 55/100\n",
      "Working on iteration 56/100\n",
      "Working on iteration 57/100\n",
      "Working on iteration 58/100\n",
      "Working on iteration 59/100\n",
      "Working on iteration 60/100\n",
      "Working on iteration 61/100\n",
      "Working on iteration 62/100\n",
      "Working on iteration 63/100\n",
      "Working on iteration 64/100\n",
      "Working on iteration 65/100\n",
      "Working on iteration 66/100\n",
      "Working on iteration 67/100\n",
      "Working on iteration 68/100\n",
      "Working on iteration 69/100\n",
      "Working on iteration 70/100\n",
      "Working on iteration 71/100\n",
      "Working on iteration 72/100\n",
      "Working on iteration 73/100\n",
      "Working on iteration 74/100\n",
      "Working on iteration 75/100\n",
      "Working on iteration 76/100\n",
      "Working on iteration 77/100\n",
      "Working on iteration 78/100\n",
      "Working on iteration 79/100\n",
      "Working on iteration 80/100\n",
      "Working on iteration 81/100\n",
      "Working on iteration 82/100\n",
      "Working on iteration 83/100\n",
      "Working on iteration 84/100\n",
      "Working on iteration 85/100\n",
      "Working on iteration 86/100\n",
      "Working on iteration 87/100\n",
      "Working on iteration 88/100\n",
      "Working on iteration 89/100\n",
      "Working on iteration 90/100\n",
      "Working on iteration 91/100\n",
      "Working on iteration 92/100\n",
      "Working on iteration 93/100\n",
      "Working on iteration 94/100\n",
      "Working on iteration 95/100\n",
      "Working on iteration 96/100\n",
      "Working on iteration 97/100\n",
      "Working on iteration 98/100\n",
      "Working on iteration 99/100\n",
      "Working on iteration 100/100\n"
     ]
    }
   ],
   "source": [
    "# Loop over all iterations and at each point take mean predictions and compute\n",
    "# max SIC (including cut w.r.t. relative error as usual)\n",
    "max_sic_list = []\n",
    "for i in range(all_preds.shape[1]):\n",
    "    print(f\"Working on iteration {i+1}/{all_preds.shape[1]}\")\n",
    "    iter_preds = all_preds[:, i].mean(axis=0)\n",
    "    iter_tprs, iter_fprs = multi_roc_sigeffs(iter_preds.reshape((1, -1)), y_test)\n",
    "    iter_sics = iter_tprs/np.sqrt(iter_fprs)\n",
    "    iter_sics = iter_sics.flatten()\n",
    "    iter_sics[~np.isfinite(iter_sics)] = 0\n",
    "    mask = (1/np.sqrt(iter_fprs.flatten()*y_test[y_test==0].shape[0])) < 0.2\n",
    "    max_sic_list.append(iter_sics[mask].max())\n",
    "\n",
    "max_sic_list = np.array(max_sic_list)"
   ]
  },
  {
   "attachments": {},
   "cell_type": "markdown",
   "metadata": {},
   "source": [
    "Plot Max SICs at each iteration vs iteration:"
   ]
  },
  {
   "cell_type": "code",
   "execution_count": 26,
   "metadata": {},
   "outputs": [
    {
     "name": "stdout",
     "output_type": "stream",
     "text": [
      "Maximum SIC using all models at minimum validation loss: 15.45\n"
     ]
    },
    {
     "name": "stderr",
     "output_type": "stream",
     "text": [
      "/tmp/ipykernel_89345/1456859742.py:5: RuntimeWarning: divide by zero encountered in true_divide\n",
      "  sics_noG = tpr_vals_noG.flatten()/np.sqrt(fpr_vals_noG.flatten())\n",
      "/tmp/ipykernel_89345/1456859742.py:5: RuntimeWarning: invalid value encountered in true_divide\n",
      "  sics_noG = tpr_vals_noG.flatten()/np.sqrt(fpr_vals_noG.flatten())\n",
      "/tmp/ipykernel_89345/1456859742.py:7: RuntimeWarning: divide by zero encountered in true_divide\n",
      "  mask = (1/np.sqrt(fpr_vals_noG.flatten()*y_test[y_test==0].shape[0])) < 0.2\n"
     ]
    }
   ],
   "source": [
    "# Sum validation losses of all individual models\n",
    "summed_val_losses = full_val_losses[0].sum(axis=0)\n",
    "\n",
    "# Get max SIC for min val loss model\n",
    "sics_noG = tpr_vals_noG.flatten()/np.sqrt(fpr_vals_noG.flatten())\n",
    "sics_noG[~np.isfinite(sics_noG)] = 0\n",
    "mask = (1/np.sqrt(fpr_vals_noG.flatten()*y_test[y_test==0].shape[0])) < 0.2\n",
    "max_min_val_loss_sic = np.max(sics_noG[mask])\n",
    "print(f\"Maximum SIC using all models at minimum validation loss: {max_min_val_loss_sic:.2f}\")"
   ]
  },
  {
   "attachments": {},
   "cell_type": "markdown",
   "metadata": {},
   "source": [
    "Do the plot of summed validation loss of all individual models (\"ensemble val. loss\") as well as the max. ensemble SIC at each iteration. Also plot max. SIC for ensemble at the respective minimum validation loss iteration (which is our current \"default\")."
   ]
  },
  {
   "cell_type": "code",
   "execution_count": 27,
   "metadata": {},
   "outputs": [],
   "source": [
    "fig, ax = plt.subplots()\n",
    "xvals = np.arange(1, 101)\n",
    "line1, = ax.plot(xvals, summed_val_losses, label=\"Summed val losses\", color=\"blue\")\n",
    "ax.set_xlabel(\"Iteration\")\n",
    "ax.set_ylabel(\"Summed validation Loss\")\n",
    "ax2 = ax.twinx()\n",
    "line3, = ax2.plot(xvals, max_sic_list, label=\"max. SICs\", color=\"orange\")\n",
    "line4, = ax2.plot([0, np.max(xvals)+1], [max_min_val_loss_sic]*2, linestyle=\"dashed\", color=\"green\", label=\"max. SIC of min val. loss models\")\n",
    "ax2.set_ylabel(\"Significance Improvement (SIC)\")\n",
    "#ax2.set_ylim(0, 20)\n",
    "ax2.legend(handles=[line1, line3, line4], loc=\"lower right\")\n",
    "plt.savefig(f\"./ensemble_val_loss_max_sic_compare.pdf\", bbox_inches=\"tight\")\n",
    "plt.close()"
   ]
  },
  {
   "attachments": {},
   "cell_type": "markdown",
   "metadata": {},
   "source": [
    "## Study 2.3: Repeat previous study, but for each model in the ensemble take a **random** iteration\n",
    "\n",
    "We run a very similar study as the ensebmle study in 2.2., but instead of computing the SIC at each iteration, we randomly choose an iteration for each of the models to compute the ensemble SIC with. We also compute the respective sum of the val loss for this random selection."
   ]
  },
  {
   "cell_type": "code",
   "execution_count": 28,
   "metadata": {},
   "outputs": [
    {
     "name": "stderr",
     "output_type": "stream",
     "text": [
      "/tmp/ipykernel_89345/1772460167.py:26: RuntimeWarning: divide by zero encountered in true_divide\n",
      "  all_sics = all_tprs/np.sqrt(all_fprs)\n",
      "/tmp/ipykernel_89345/1772460167.py:26: RuntimeWarning: invalid value encountered in true_divide\n",
      "  all_sics = all_tprs/np.sqrt(all_fprs)\n",
      "/tmp/ipykernel_89345/1772460167.py:29: RuntimeWarning: divide by zero encountered in true_divide\n",
      "  mask = (1/np.sqrt(all_fprs*y_test[y_test==0].shape[0])) < 0.2\n"
     ]
    }
   ],
   "source": [
    "num_trials = 100\n",
    "random_val_losses = []\n",
    "for i in range(num_trials):\n",
    "    # Get 10 random integers in the region from 0 to 99\n",
    "    rng = np.random.RandomState(seed=i+1)\n",
    "    selected_iters = rng.randint(0, 100, size=(10,))\n",
    "    tmp_val_loss = 0\n",
    "    for idx, tmp_iter in enumerate(selected_iters):\n",
    "        tmp_preds = all_preds[idx, tmp_iter].reshape((1, -1))\n",
    "        tmp_val_loss += full_val_losses[0][idx][tmp_iter]\n",
    "        if idx == 0:\n",
    "            random_preds = tmp_preds\n",
    "        else:\n",
    "            random_preds = np.vstack([random_preds, tmp_preds])\n",
    "    \n",
    "    random_val_losses.append(tmp_val_loss)\n",
    "    mean_preds = random_preds.mean(axis=0).reshape((1, -1))\n",
    "    \n",
    "    if i==0:\n",
    "        all_mean_preds = mean_preds\n",
    "    else:\n",
    "        all_mean_preds = np.vstack([all_mean_preds, mean_preds])\n",
    "\n",
    "# Get max. SIC values for all random ensembles\n",
    "all_tprs, all_fprs = multi_roc_sigeffs(all_mean_preds, y_test)\n",
    "all_sics = all_tprs/np.sqrt(all_fprs)\n",
    "all_sics[~np.isfinite(all_sics)] = 0\n",
    "\n",
    "mask = (1/np.sqrt(all_fprs*y_test[y_test==0].shape[0])) < 0.2\n",
    "masked_sics = np.ma.array(all_sics, mask=~mask)\n",
    "max_rand_sics = masked_sics.max(axis=1)\n",
    "random_val_losses = np.array(random_val_losses)"
   ]
  },
  {
   "attachments": {},
   "cell_type": "markdown",
   "metadata": {},
   "source": [
    "Do the same plot as before, now for the randomly selected iterations:"
   ]
  },
  {
   "cell_type": "code",
   "execution_count": 29,
   "metadata": {},
   "outputs": [],
   "source": [
    "sorted_indices = np.argsort(random_val_losses)\n",
    "\n",
    "fig, ax = plt.subplots()\n",
    "xvals = np.arange(1, 101)\n",
    "line1, = ax.plot(xvals, random_val_losses[sorted_indices], label=\"Summed val losses\", color=\"blue\")\n",
    "ax.set_xlabel(\"Trial no. (sorted by val. loss)\")\n",
    "ax.set_ylabel(\"Summed validation Loss\")\n",
    "ax2 = ax.twinx()\n",
    "line3, = ax2.plot(xvals, max_rand_sics[sorted_indices], label=\"max. SICs\", color=\"orange\")\n",
    "line4, = ax2.plot([0, np.max(xvals)+1], [max_min_val_loss_sic]*2, linestyle=\"dashed\", color=\"green\", label=\"max. SIC of min val. loss models\")\n",
    "ax2.set_ylabel(\"Significance Improvement (SIC)\")\n",
    "#ax2.set_ylim(0, 20)\n",
    "ax2.legend(handles=[line1, line3, line4], loc=\"lower right\")\n",
    "plt.savefig(f\"./random_ensemble_val_loss_max_sic_compare.pdf\", bbox_inches=\"tight\")\n",
    "plt.close()"
   ]
  },
  {
   "attachments": {},
   "cell_type": "markdown",
   "metadata": {},
   "source": [
    "## Study 2.4.: Study validation loss as metric for *different* tree-based algorithms\n"
   ]
  },
  {
   "cell_type": "code",
   "execution_count": null,
   "metadata": {},
   "outputs": [],
   "source": [
    "# TODO"
   ]
  },
  {
   "cell_type": "code",
   "execution_count": null,
   "metadata": {},
   "outputs": [],
   "source": []
  },
  {
   "cell_type": "code",
   "execution_count": null,
   "metadata": {},
   "outputs": [],
   "source": []
  },
  {
   "attachments": {},
   "cell_type": "markdown",
   "metadata": {},
   "source": [
    "**Discussion of Results of study 2.:**\n",
    "\n",
    "We have seen that for individual models, the maximum SIC value and the validation losses are not correlated. Also for the ensemble, we have seen that no strong correlation can be observed. However, it can clearly be seen that the very first iterations of the entire ensemble perform consistently worse than higher iterations. After a few iterations, the ensemble performance reaches a \"plateau\", at which the max. SIC starts to randomly jump around a similar value. The maximum SIC of the minimum validation loss ensemble is typically also in the plateau. We have seen cases where it is amongst the best iteration ensembles but also cases where it is more on the lower end.\n",
    "\n",
    "In the random ensemble, we have seen that also when taking random iterations this behavior doesn't change. The maximum SIC value still jumps around a similar value (typically around 15), independent of the summed validation loss of the randomly chosen ensemble. Therefore, the (ensemble) validation loss does not seem to be a good model-agnostic predictor of the final signal-vs-background performance. However, in practice one can still use the minimum validation loss approach, since it allows for efficient training due to the availability of early stopping, while still guaranteeing to be in the optimal performance plateau, as we have seen in this study. "
   ]
  },
  {
   "attachments": {},
   "cell_type": "markdown",
   "metadata": {},
   "source": []
  }
 ],
 "metadata": {
  "kernelspec": {
   "display_name": "hgb_env",
   "language": "python",
   "name": "python3"
  },
  "language_info": {
   "codemirror_mode": {
    "name": "ipython",
    "version": 3
   },
   "file_extension": ".py",
   "mimetype": "text/x-python",
   "name": "python",
   "nbconvert_exporter": "python",
   "pygments_lexer": "ipython3",
   "version": "3.10.11"
  },
  "orig_nbformat": 4
 },
 "nbformat": 4,
 "nbformat_minor": 2
}
